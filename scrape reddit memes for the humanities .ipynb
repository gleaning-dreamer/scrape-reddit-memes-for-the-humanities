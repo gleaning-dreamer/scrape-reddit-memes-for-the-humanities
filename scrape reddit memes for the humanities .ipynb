{
 "cells": [
  {
   "cell_type": "code",
   "execution_count": 1,
   "metadata": {},
   "outputs": [],
   "source": [
    "#import what you need to import\n",
    "import os\n",
    "import praw \n",
    "import pandas as pd\n",
    "import numpy as np \n",
    "from textblob import TextBlob\n",
    "from textblob.sentiments import NaiveBayesAnalyzer \n",
    "from datetime import datetime\n"
   ]
  },
  {
   "cell_type": "code",
   "execution_count": 2,
   "metadata": {},
   "outputs": [],
   "source": [
    "#Get onto reddit\n",
    "reddit = praw.Reddit(client_id=\"your_info\",      \n",
    "                     client_secret=\"your_info\", \n",
    "                     user_agent=\"your_info\",\n",
    "                     username = \"your_info\",     \n",
    "                     password = \"your_info\",)"
   ]
  },
  {
   "cell_type": "code",
   "execution_count": 3,
   "metadata": {},
   "outputs": [
    {
     "name": "stdout",
     "output_type": "stream",
     "text": [
      "wgsebaldness\n"
     ]
    }
   ],
   "source": [
    "#are you actually on reddit now?\n",
    "print(reddit.user.me())"
   ]
  },
  {
   "cell_type": "code",
   "execution_count": 4,
   "metadata": {},
   "outputs": [],
   "source": [
    "#specify subreddits\n",
    "\n",
    "subreddit = reddit.subreddit(\"subreddit goes here\")   # Chosing the subreddit\n"
   ]
  },
  {
   "cell_type": "code",
   "execution_count": 5,
   "metadata": {},
   "outputs": [
    {
     "name": "stdout",
     "output_type": "stream",
     "text": [
      "subreddit goes here\n"
     ]
    }
   ],
   "source": [
    "print(subreddit) #make sure it work"
   ]
  },
  {
   "cell_type": "code",
   "execution_count": 14,
   "metadata": {},
   "outputs": [],
   "source": [
    "#time to get posts\n",
    "df = []\n",
    "\n",
    "memes = reddit.subreddit(\"subreddit goes here \").new(limit =1000)"
   ]
  },
  {
   "cell_type": "code",
   "execution_count": 15,
   "metadata": {},
   "outputs": [],
   "source": [
    "#get the dict\n",
    "\n",
    "for post in memes:\n",
    "    df.append(\n",
    "        [  \n",
    "        post.created_utc,\n",
    "        post.id,\n",
    "        post.title,\n",
    "        post.score,\n",
    "        post.ups,\n",
    "        post.downs,\n",
    "        post.permalink,\n",
    "        post.url,\n",
    "        post.is_self,\n",
    "        ]     \n",
    "    )\n",
    "    \n"
   ]
  },
  {
   "cell_type": "code",
   "execution_count": 17,
   "metadata": {},
   "outputs": [],
   "source": [
    "#got the dict now df\n",
    "df = pd.DataFrame(\n",
    "    df,\n",
    "    columns=[\n",
    "        \"post created\",\n",
    "        \"id\",\n",
    "        \"title\",\n",
    "        \"score\",\n",
    "        \"ups\",\n",
    "        \"downs\",\n",
    "        \"permalink\",\n",
    "        \"url\",\n",
    "        \"self or no\",\n",
    "    ],\n",
    ")\n",
    "\n"
   ]
  },
  {
   "cell_type": "code",
   "execution_count": null,
   "metadata": {},
   "outputs": [],
   "source": []
  },
  {
   "cell_type": "code",
   "execution_count": 18,
   "metadata": {},
   "outputs": [
    {
     "name": "stdout",
     "output_type": "stream",
     "text": [
      "0     2022-03-18 15:12:23\n",
      "1     2022-02-20 14:16:10\n",
      "2     2022-02-20 05:22:27\n",
      "3     2022-02-07 02:00:54\n",
      "4     2022-01-29 17:36:54\n",
      "              ...        \n",
      "689   2015-11-24 12:13:25\n",
      "690   2015-11-24 12:12:18\n",
      "691   2015-11-24 12:11:11\n",
      "692   2015-11-24 12:10:14\n",
      "693   2015-11-24 12:08:39\n",
      "Name: post created, Length: 694, dtype: datetime64[ns]\n"
     ]
    }
   ],
   "source": [
    "df['post created'] = pd.to_datetime(df['post created'],unit='s')\n",
    "print(df['post created'])"
   ]
  },
  {
   "cell_type": "code",
   "execution_count": null,
   "metadata": {},
   "outputs": [],
   "source": []
  },
  {
   "cell_type": "code",
   "execution_count": 19,
   "metadata": {},
   "outputs": [],
   "source": [
    "to_csv_timestamp = datetime.today().strftime('%Y%m%d_%H%M%S')"
   ]
  },
  {
   "cell_type": "code",
   "execution_count": 20,
   "metadata": {},
   "outputs": [],
   "source": [
    "path = os.getcwd()\n",
    "filename = path + 'your directory'+ to_csv_timestamp + 'yourfilename.csv'\n",
    "df.to_csv(filename, index = False)"
   ]
  },
  {
   "cell_type": "code",
   "execution_count": null,
   "metadata": {},
   "outputs": [],
   "source": []
  },
  {
   "cell_type": "code",
   "execution_count": null,
   "metadata": {},
   "outputs": [],
   "source": []
  }
 ],
 "metadata": {
  "kernelspec": {
   "display_name": "Python 3",
   "language": "python",
   "name": "python3"
  },
  "language_info": {
   "codemirror_mode": {
    "name": "ipython",
    "version": 3
   },
   "file_extension": ".py",
   "mimetype": "text/x-python",
   "name": "python",
   "nbconvert_exporter": "python",
   "pygments_lexer": "ipython3",
   "version": "3.8.5"
  }
 },
 "nbformat": 4,
 "nbformat_minor": 4
}
